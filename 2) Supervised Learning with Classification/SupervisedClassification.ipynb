{
 "cells": [
  {
   "cell_type": "markdown",
   "metadata": {},
   "source": [
    "# Supervised Learning - Classification Example\n",
    "Before reading through this program, it is recommended to make sure you read through the Supervised Learning - Regression article as there will be less basic explanations in this program.  \n",
    "\n",
    "### Overview\n",
    "This program will make use of the MNIST dataset, a dataset containing handwritten digits, which is known as the Hello World of machine learning. This tutorial will go through creating and training the machine learning model, but later in the series we will use TensorFlow.js to embed this model into an interactive webpage to be able to draw our own digits which can then be classified.\n",
    "\n",
    "### Importing Libraries\n",
    " - Matplotlib is a library for creating graphs and other visuals\n",
    " - Numpy is a high-performance mathematics library\n",
    " - TensorFlow is the platform that the AI code will run on, with Keras being the interface to TF"
   ]
  },
  {
   "cell_type": "code",
   "execution_count": 1,
   "metadata": {},
   "outputs": [
    {
     "name": "stdout",
     "output_type": "stream",
     "text": [
      "2.1.0\n"
     ]
    }
   ],
   "source": [
    "%load_ext tensorboard\n",
    "\n",
    "import matplotlib.pyplot as plt\n",
    "import numpy as np\n",
    "import tensorflow as tf\n",
    "from tensorflow import keras\n",
    "print(tf.__version__)"
   ]
  },
  {
   "cell_type": "markdown",
   "metadata": {},
   "source": [
    "### Loading the Dataset\n",
    "Instead of manually downloading the dataset like in the regression example, TensorFlow includes some example dataset which are already formatted that we can use. We make a reference to the MNIST dataset object and load the data which is in the form of 2 tuples of 2 arrays each.\n",
    "\n",
    "We output the shape the train set, it tells us there are 60000 images which are each 28 x 28 pixels in size."
   ]
  },
  {
   "cell_type": "code",
   "execution_count": 69,
   "metadata": {},
   "outputs": [
    {
     "data": {
      "text/plain": [
       "(60000, 28, 28)"
      ]
     },
     "execution_count": 69,
     "metadata": {},
     "output_type": "execute_result"
    }
   ],
   "source": [
    "mnist = keras.datasets.mnist\n",
    "(trainImages, trainClasses), (testImages, testClasses) = mnist.load_data()\n",
    "trainImages.shape"
   ]
  },
  {
   "cell_type": "markdown",
   "metadata": {},
   "source": [
    "We can also matplotlib to output some example images with their corresponding labels. This block of code creates a figure of (relative) size 10x10, and then iterates through the first 25 training images, creating a subplot for each, and showing the images in black and white with their label."
   ]
  },
  {
   "cell_type": "code",
   "execution_count": 70,
   "metadata": {},
   "outputs": [
    {
     "data": {
      "image/png": "[encoded data removed]",
      "text/plain": [
       "<Figure size 720x720 with 25 Axes>"
      ]
     },
     "metadata": {},
     "output_type": "display_data"
    }
   ],
   "source": [
    "plt.figure(figsize=(10,10))\n",
    "for i in range(25):\n",
    "    plt.subplot(5,5,i+1)\n",
    "    plt.xticks([])\n",
    "    plt.yticks([])\n",
    "    plt.imshow(trainImages[i], cmap=plt.cm.binary)\n",
    "    plt.xlabel(trainClasses[i])\n",
    "plt.show()"
   ]
  },
  {
   "cell_type": "markdown",
   "metadata": {},
   "source": [
    "### Normalising the Data\n",
    "We need to look at how the images are represented, to see if we need to make any changes to how the data is structured. Here we just take the first index in the train Images list, and look at the middle row."
   ]
  },
  {
   "cell_type": "code",
   "execution_count": 71,
   "metadata": {},
   "outputs": [
    {
     "name": "stdout",
     "output_type": "stream",
     "text": [
      "[  0   0   0   0   0   0   0   0   0   0   0   0   0  81 240 253 253 119\n",
      "  25   0   0   0   0   0   0   0   0   0]\n",
      "Max Value = 255\n",
      "Min Value = 0\n"
     ]
    }
   ],
   "source": [
    "print(trainImages[0][14])\n",
    "print(\"Max Value = \" + str(trainImages.max()))\n",
    "print(\"Min Value = \" + str(trainImages.min()))"
   ]
  },
  {
   "cell_type": "markdown",
   "metadata": {},
   "source": [
    "Above, we see the values are in the range 0 - 255. The previous article explained that neural networks like to with values that are between 0 - 1 or -1 - 1. Since we know the values won't go below 0, we can normalise the data to be between 0 and 1. This is simply done by dividing every value by 255 (which we know is maximum value):"
   ]
  },
  {
   "cell_type": "code",
   "execution_count": 72,
   "metadata": {},
   "outputs": [
    {
     "data": {
      "text/plain": [
       "array([0.        , 0.        , 0.        , 0.        , 0.        ,\n",
       "       0.        , 0.        , 0.        , 0.        , 0.        ,\n",
       "       0.        , 0.        , 0.        , 0.31764706, 0.94117647,\n",
       "       0.99215686, 0.99215686, 0.46666667, 0.09803922, 0.        ,\n",
       "       0.        , 0.        , 0.        , 0.        , 0.        ,\n",
       "       0.        , 0.        , 0.        ])"
      ]
     },
     "execution_count": 72,
     "metadata": {},
     "output_type": "execute_result"
    }
   ],
   "source": [
    "trainImages = trainImages / 255\n",
    "testImages = testImages / 255\n",
    "trainImages[0][14]"
   ]
  },
  {
   "cell_type": "markdown",
   "metadata": {},
   "source": [
    "### Building our Model\n",
    "\n",
    "We will use a deep neural network using the Keras sequential model. We start with a layer that flattens the 28x28 pixel input into a 784x1 input. \n",
    "We then add a dense layer of size 128 with the reLU activation, with a dropout rate of 0.1.\n",
    "\n",
    "Dropout is used to prevent overfitting which is where the model gets too fixated on the data it is learning from and would not be able to generalise well. This is done by randomly setting some of the weights to 0 during training which forces the model to constantly adapt and change.\n",
    "\n",
    "We then add another dense layer but this time with 32 nodes with reLU.\n",
    "\n",
    "And finally, for the output we have a dense layer with 10 nodes - one for each possible number (0-9)\n",
    "\n",
    "We compile it using the adam optimiser, and to use the Sparce Categorical Cross Entropy loss function (which is a reommended loss function of classification problems). We also include the metrics parameter which will output the accuracy as it trains.\n",
    "\n",
    "We can also run the evaluate function before training to see how well (or badly) it would do without training - it was getting 8-12% accuracy (roughly 1 in 10) which is the probability you would get if you randomly picked an answer each time."
   ]
  },
  {
   "cell_type": "code",
   "execution_count": 22,
   "metadata": {},
   "outputs": [
    {
     "name": "stdout",
     "output_type": "stream",
     "text": [
      "10000/10000 - 0s - loss: 2.3877 - accuracy: 0.0808\n"
     ]
    }
   ],
   "source": [
    "model = keras.Sequential([\n",
    "    keras.layers.Flatten(input_shape=(28, 28)),\n",
    "    keras.layers.Dense(128, activation='relu'),\n",
    "    keras.layers.Dropout(0.1),\n",
    "    keras.layers.Dense(32, activation='relu'),\n",
    "    keras.layers.Dense(10)\n",
    "])\n",
    "\n",
    "model.compile(optimizer='adam', loss=keras.losses.SparseCategoricalCrossentropy(from_logits=True), metrics=['accuracy'])\n",
    "\n",
    "preTrain = model.evaluate(testImages, testClasses, verbose=2)"
   ]
  },
  {
   "cell_type": "markdown",
   "metadata": {},
   "source": [
    "### Training our Model\n",
    "\n",
    "Now the model has been made, we can train it with the train images and train classes, and telling it to run 10 iterations (epochs). By the end of training, this was getting an accuracy of ~0.99 (99% accurate) on the training data!"
   ]
  },
  {
   "cell_type": "code",
   "execution_count": 18,
   "metadata": {
    "scrolled": true
   },
   "outputs": [
    {
     "name": "stdout",
     "output_type": "stream",
     "text": [
      "Train on 60000 samples\n",
      "Epoch 1/10\n",
      "60000/60000 [==============================] - 2s 38us/sample - loss: 0.2768 - accuracy: 0.9179\n",
      "Epoch 2/10\n",
      "60000/60000 [==============================] - 2s 34us/sample - loss: 0.1243 - accuracy: 0.9620\n",
      "Epoch 3/10\n",
      "60000/60000 [==============================] - 2s 33us/sample - loss: 0.0906 - accuracy: 0.9709\n",
      "Epoch 4/10\n",
      "60000/60000 [==============================] - 2s 34us/sample - loss: 0.0731 - accuracy: 0.9771\n",
      "Epoch 5/10\n",
      "60000/60000 [==============================] - 2s 34us/sample - loss: 0.0625 - accuracy: 0.9804\n",
      "Epoch 6/10\n",
      "60000/60000 [==============================] - 2s 34us/sample - loss: 0.0554 - accuracy: 0.9818\n",
      "Epoch 7/10\n",
      "60000/60000 [==============================] - 2s 35us/sample - loss: 0.0474 - accuracy: 0.9845\n",
      "Epoch 8/10\n",
      "60000/60000 [==============================] - 2s 34us/sample - loss: 0.0406 - accuracy: 0.9863\n",
      "Epoch 9/10\n",
      "60000/60000 [==============================] - 2s 34us/sample - loss: 0.0401 - accuracy: 0.9867\n",
      "Epoch 10/10\n",
      "60000/60000 [==============================] - 2s 33us/sample - loss: 0.0361 - accuracy: 0.9877\n"
     ]
    },
    {
     "data": {
      "text/plain": [
       "<tensorflow.python.keras.callbacks.History at 0x1e1eecd3108>"
      ]
     },
     "execution_count": 18,
     "metadata": {},
     "output_type": "execute_result"
    }
   ],
   "source": [
    "model.fit(trainImages, trainClasses, epochs=10)"
   ]
  },
  {
   "cell_type": "markdown",
   "metadata": {},
   "source": [
    "### Evaluating our Model\n",
    "\n",
    "Once trained, we can evaluate the model using the test images and classes. Here we also use the verbose parameter to just output the results at the end of evaluating - it was getting ~98%. \n",
    "\n",
    "The evaluation accuracy will be usually than the training accuracy due to overfitting like mentioned earlier. Overfitting can be reduced through the user of dropout and by increasing the volume and variation of data - it's very difficult to get exactly the same performance between training and testing."
   ]
  },
  {
   "cell_type": "code",
   "execution_count": 8,
   "metadata": {},
   "outputs": [
    {
     "name": "stdout",
     "output_type": "stream",
     "text": [
      "10000/10000 - 0s - loss: 0.0762 - accuracy: 0.9785\n"
     ]
    }
   ],
   "source": [
    "testEval = model.evaluate(testImages, testClasses, verbose=2)"
   ]
  },
  {
   "cell_type": "markdown",
   "metadata": {},
   "source": [
    "### Making Predictions\n",
    "\n",
    "The model currently outputs in the form of Logits, we can add softmax layer which transforms the Logit values into typical probabilities that are easier to interpret.\n",
    "\n",
    "Once we create this predictor model, we can then feed it all the testing images to get an array of the predicted values.\n",
    "\n",
    "You could also create your own images and use a library such as Pillow to convert the image into a 28x28 monochrome image that can be fed into the model - this is something we will do with TensorFlow.js in a future tutorial"
   ]
  },
  {
   "cell_type": "code",
   "execution_count": 9,
   "metadata": {},
   "outputs": [],
   "source": [
    "predictor = keras.Sequential()\n",
    "predictor.add(model)\n",
    "predictor.add(keras.layers.Softmax())"
   ]
  },
  {
   "cell_type": "code",
   "execution_count": 10,
   "metadata": {},
   "outputs": [],
   "source": [
    "predictions = predictor.predict(testImages)"
   ]
  },
  {
   "cell_type": "markdown",
   "metadata": {},
   "source": [
    "With that list of predicted values, we can use matplotlib to visualise the image the model sees, and the output of the model in terms of the probabilities of each value\n",
    "\n",
    "To do this, we randomly pick an index of a test image to look at. We create a subplot , plot the image in one plot like we did previously and then create a bar chart\n"
   ]
  },
  {
   "cell_type": "code",
   "execution_count": 11,
   "metadata": {},
   "outputs": [
    {
     "data": {
      "image/png": "[encoded data removed]",
      "text/plain": [
       "<Figure size 432x216 with 2 Axes>"
      ]
     },
     "metadata": {
      "needs_background": "light"
     },
     "output_type": "display_data"
    },
    {
     "data": {
      "image/png": "[encoded data removed]",
      "text/plain": [
       "<Figure size 432x216 with 2 Axes>"
      ]
     },
     "metadata": {
      "needs_background": "light"
     },
     "output_type": "display_data"
    },
    {
     "data": {
      "image/png": "[encoded data removed]",
      "text/plain": [
       "<Figure size 432x216 with 2 Axes>"
      ]
     },
     "metadata": {
      "needs_background": "light"
     },
     "output_type": "display_data"
    },
    {
     "data": {
      "image/png": "[encoded data removed]",
      "text/plain": [
       "<Figure size 432x216 with 2 Axes>"
      ]
     },
     "metadata": {
      "needs_background": "light"
     },
     "output_type": "display_data"
    },
    {
     "data": {
      "image/png": "[encoded data removed]",
      "text/plain": [
       "<Figure size 432x216 with 2 Axes>"
      ]
     },
     "metadata": {
      "needs_background": "light"
     },
     "output_type": "display_data"
    }
   ],
   "source": [
    "import random\n",
    "for count in range(5):\n",
    "    index = random.randint(0, len(testImages))\n",
    "    plt.figure(figsize=(6,3))\n",
    "    \n",
    "    ## Image\n",
    "    plt.subplot(1,2,1)\n",
    "    plt.imshow(testImages[index], cmap=plt.cm.binary)\n",
    "    plt.xlabel(testClasses[index])\n",
    "    plt.xticks([])\n",
    "    plt.yticks([])\n",
    "    \n",
    "    ## Prediction Chart\n",
    "    plt.subplot(1,2,2)\n",
    "    plt.xticks(range(10))\n",
    "    plt.yticks([])\n",
    "    bar = plt.bar(range(10), predictions[index], color='gray')\n",
    "    bar[np.argmax(predictions[index])].set_color('red')\n",
    "    bar[testClasses[index]].set_color('green')"
   ]
  }
 ],
 "metadata": {
  "kernelspec": {
   "display_name": "Python 3",
   "language": "python",
   "name": "python3"
  },
  "language_info": {
   "codemirror_mode": {
    "name": "ipython",
    "version": 3
   },
   "file_extension": ".py",
   "mimetype": "text/x-python",
   "name": "python",
   "nbconvert_exporter": "python",
   "pygments_lexer": "ipython3",
   "version": "3.7.9"
  }
 },
 "nbformat": 4,
 "nbformat_minor": 4
}
