{
 "cells": [
  {
   "cell_type": "markdown",
   "metadata": {},
   "source": [
    "# Supervised Learning - Regression Example\n",
    "\n",
    "### Overview\n",
    "This program will make use of the Fish Market dataset, which can be [downloaded here](\"https://www.kaggle.com/aungpyaeap/fish-market\"), to be able to predict the weight of a given fish based on its species, height, width and 3 measurements of length. Note: make sure the dataset (the .csv file) is in the same directory as the notebook.\n",
    "\n",
    "### Importing Libraries\n",
    "The first 2 lines show off some cool features with Notebooks:\n",
    "  1. Lines starting with % are instructions to Jupyter, here we tell it to load the TensorBoard extension which allows us to embed TensorBoard visualisations right into the notebook - instead of opening a new webpage. TensorBoard is a visualisation tool for TensorFlow which allows us to look at the machine learning model and the training performance.\n",
    "  2. Lines starting with ! are normal terminal commands, here it will make sure seaborn and pandas is installed, without having to separately opening a terminal and installing them.\n",
    "\n",
    "**Libraries Used:**\n",
    " - Matplotlib is a library for creating graphs and other visuals\n",
    " - Numpy is a high-performance mathematics library\n",
    " - Pandas is a library for working with datasets\n",
    " - Seaborn works with matplotlib to create some nice combined graphics\n",
    " - TensorFlow is the platform that the AI code will run on, with Keras being the interface to TF"
   ]
  },
  {
   "cell_type": "code",
   "execution_count": 1,
   "metadata": {},
   "outputs": [
    {
     "name": "stdout",
     "output_type": "stream",
     "text": [
      "2.1.0\n"
     ]
    }
   ],
   "source": [
    "%load_ext tensorboard\n",
    "!pip install -q seaborn pandas\n",
    "\n",
    "import matplotlib.pyplot as plt\n",
    "import numpy as np\n",
    "import pandas as pd\n",
    "import seaborn as sb\n",
    "import tensorflow as tf\n",
    "from tensorflow import keras\n",
    "print(tf.__version__)"
   ]
  },
  {
   "cell_type": "markdown",
   "metadata": {},
   "source": [
    "### Reading & Formatting the Dataset\n",
    "Lets start by loading the CSV dataset into a pandas dataframe. A dataframe is simply a 2-dimensional tabular data-type with some powerful functions which we will use some of later.\n",
    "\n",
    "Once loaded, we can use the .tail() function to print the last few lines of the dataframe so we can learn about the structure"
   ]
  },
  {
   "cell_type": "code",
   "execution_count": 2,
   "metadata": {},
   "outputs": [
    {
     "data": {
      "text/html": [
       "<div>\n",
       "<style scoped>\n",
       "    .dataframe tbody tr th:only-of-type {\n",
       "        vertical-align: middle;\n",
       "    }\n",
       "\n",
       "    .dataframe tbody tr th {\n",
       "        vertical-align: top;\n",
       "    }\n",
       "\n",
       "    .dataframe thead th {\n",
       "        text-align: right;\n",
       "    }\n",
       "</style>\n",
       "<table border=\"1\" class=\"dataframe\">\n",
       "  <thead>\n",
       "    <tr style=\"text-align: right;\">\n",
       "      <th></th>\n",
       "      <th>Species</th>\n",
       "      <th>Weight</th>\n",
       "      <th>Length1</th>\n",
       "      <th>Length2</th>\n",
       "      <th>Length3</th>\n",
       "      <th>Height</th>\n",
       "      <th>Width</th>\n",
       "    </tr>\n",
       "  </thead>\n",
       "  <tbody>\n",
       "    <tr>\n",
       "      <th>154</th>\n",
       "      <td>Smelt</td>\n",
       "      <td>12.2</td>\n",
       "      <td>11.5</td>\n",
       "      <td>12.2</td>\n",
       "      <td>13.4</td>\n",
       "      <td>2.0904</td>\n",
       "      <td>1.3936</td>\n",
       "    </tr>\n",
       "    <tr>\n",
       "      <th>155</th>\n",
       "      <td>Smelt</td>\n",
       "      <td>13.4</td>\n",
       "      <td>11.7</td>\n",
       "      <td>12.4</td>\n",
       "      <td>13.5</td>\n",
       "      <td>2.4300</td>\n",
       "      <td>1.2690</td>\n",
       "    </tr>\n",
       "    <tr>\n",
       "      <th>156</th>\n",
       "      <td>Smelt</td>\n",
       "      <td>12.2</td>\n",
       "      <td>12.1</td>\n",
       "      <td>13.0</td>\n",
       "      <td>13.8</td>\n",
       "      <td>2.2770</td>\n",
       "      <td>1.2558</td>\n",
       "    </tr>\n",
       "    <tr>\n",
       "      <th>157</th>\n",
       "      <td>Smelt</td>\n",
       "      <td>19.7</td>\n",
       "      <td>13.2</td>\n",
       "      <td>14.3</td>\n",
       "      <td>15.2</td>\n",
       "      <td>2.8728</td>\n",
       "      <td>2.0672</td>\n",
       "    </tr>\n",
       "    <tr>\n",
       "      <th>158</th>\n",
       "      <td>Smelt</td>\n",
       "      <td>19.9</td>\n",
       "      <td>13.8</td>\n",
       "      <td>15.0</td>\n",
       "      <td>16.2</td>\n",
       "      <td>2.9322</td>\n",
       "      <td>1.8792</td>\n",
       "    </tr>\n",
       "  </tbody>\n",
       "</table>\n",
       "</div>"
      ],
      "text/plain": [
       "    Species  Weight  Length1  Length2  Length3  Height   Width\n",
       "154   Smelt    12.2     11.5     12.2     13.4  2.0904  1.3936\n",
       "155   Smelt    13.4     11.7     12.4     13.5  2.4300  1.2690\n",
       "156   Smelt    12.2     12.1     13.0     13.8  2.2770  1.2558\n",
       "157   Smelt    19.7     13.2     14.3     15.2  2.8728  2.0672\n",
       "158   Smelt    19.9     13.8     15.0     16.2  2.9322  1.8792"
      ]
     },
     "execution_count": 2,
     "metadata": {},
     "output_type": "execute_result"
    }
   ],
   "source": [
    "rawDS = pd.read_csv(\"Fish.csv\")\n",
    "rawDS.tail()"
   ]
  },
  {
   "cell_type": "markdown",
   "metadata": {},
   "source": [
    "From looking at the structure, there is one issue that needs to be fixed before we can work with the data. Computers like working with numbers, not words, so we need to do something about the species column. We could just not use it, but the species of a fish is likely to be quite important to its weight. \n",
    "\n",
    "Instead we will split that column (called catergorical column) into a column for each species called dummy columns as its values will be either 1 if it is that species or 0 otherwise. \n",
    "\n",
    "First we make a copy of the dataset so we can refer back to the original later without re-reading the file. Then we can use Pandas' .get_dummies() function to create all dummy columns where needed. We pass the dataset as well as the prefix and prefix separator we want for the new columns, by default it would use e.g. 'Species_Bream'\n",
    "\n",
    "We print the tail of the dataframe and we can see the new structure"
   ]
  },
  {
   "cell_type": "code",
   "execution_count": 3,
   "metadata": {},
   "outputs": [
    {
     "data": {
      "text/html": [
       "<div>\n",
       "<style scoped>\n",
       "    .dataframe tbody tr th:only-of-type {\n",
       "        vertical-align: middle;\n",
       "    }\n",
       "\n",
       "    .dataframe tbody tr th {\n",
       "        vertical-align: top;\n",
       "    }\n",
       "\n",
       "    .dataframe thead th {\n",
       "        text-align: right;\n",
       "    }\n",
       "</style>\n",
       "<table border=\"1\" class=\"dataframe\">\n",
       "  <thead>\n",
       "    <tr style=\"text-align: right;\">\n",
       "      <th></th>\n",
       "      <th>Weight</th>\n",
       "      <th>Length1</th>\n",
       "      <th>Length2</th>\n",
       "      <th>Length3</th>\n",
       "      <th>Height</th>\n",
       "      <th>Width</th>\n",
       "      <th>Bream</th>\n",
       "      <th>Parkki</th>\n",
       "      <th>Perch</th>\n",
       "      <th>Pike</th>\n",
       "      <th>Roach</th>\n",
       "      <th>Smelt</th>\n",
       "      <th>Whitefish</th>\n",
       "    </tr>\n",
       "  </thead>\n",
       "  <tbody>\n",
       "    <tr>\n",
       "      <th>154</th>\n",
       "      <td>12.2</td>\n",
       "      <td>11.5</td>\n",
       "      <td>12.2</td>\n",
       "      <td>13.4</td>\n",
       "      <td>2.0904</td>\n",
       "      <td>1.3936</td>\n",
       "      <td>0</td>\n",
       "      <td>0</td>\n",
       "      <td>0</td>\n",
       "      <td>0</td>\n",
       "      <td>0</td>\n",
       "      <td>1</td>\n",
       "      <td>0</td>\n",
       "    </tr>\n",
       "    <tr>\n",
       "      <th>155</th>\n",
       "      <td>13.4</td>\n",
       "      <td>11.7</td>\n",
       "      <td>12.4</td>\n",
       "      <td>13.5</td>\n",
       "      <td>2.4300</td>\n",
       "      <td>1.2690</td>\n",
       "      <td>0</td>\n",
       "      <td>0</td>\n",
       "      <td>0</td>\n",
       "      <td>0</td>\n",
       "      <td>0</td>\n",
       "      <td>1</td>\n",
       "      <td>0</td>\n",
       "    </tr>\n",
       "    <tr>\n",
       "      <th>156</th>\n",
       "      <td>12.2</td>\n",
       "      <td>12.1</td>\n",
       "      <td>13.0</td>\n",
       "      <td>13.8</td>\n",
       "      <td>2.2770</td>\n",
       "      <td>1.2558</td>\n",
       "      <td>0</td>\n",
       "      <td>0</td>\n",
       "      <td>0</td>\n",
       "      <td>0</td>\n",
       "      <td>0</td>\n",
       "      <td>1</td>\n",
       "      <td>0</td>\n",
       "    </tr>\n",
       "    <tr>\n",
       "      <th>157</th>\n",
       "      <td>19.7</td>\n",
       "      <td>13.2</td>\n",
       "      <td>14.3</td>\n",
       "      <td>15.2</td>\n",
       "      <td>2.8728</td>\n",
       "      <td>2.0672</td>\n",
       "      <td>0</td>\n",
       "      <td>0</td>\n",
       "      <td>0</td>\n",
       "      <td>0</td>\n",
       "      <td>0</td>\n",
       "      <td>1</td>\n",
       "      <td>0</td>\n",
       "    </tr>\n",
       "    <tr>\n",
       "      <th>158</th>\n",
       "      <td>19.9</td>\n",
       "      <td>13.8</td>\n",
       "      <td>15.0</td>\n",
       "      <td>16.2</td>\n",
       "      <td>2.9322</td>\n",
       "      <td>1.8792</td>\n",
       "      <td>0</td>\n",
       "      <td>0</td>\n",
       "      <td>0</td>\n",
       "      <td>0</td>\n",
       "      <td>0</td>\n",
       "      <td>1</td>\n",
       "      <td>0</td>\n",
       "    </tr>\n",
       "  </tbody>\n",
       "</table>\n",
       "</div>"
      ],
      "text/plain": [
       "     Weight  Length1  Length2  Length3  Height   Width  Bream  Parkki  Perch  \\\n",
       "154    12.2     11.5     12.2     13.4  2.0904  1.3936      0       0      0   \n",
       "155    13.4     11.7     12.4     13.5  2.4300  1.2690      0       0      0   \n",
       "156    12.2     12.1     13.0     13.8  2.2770  1.2558      0       0      0   \n",
       "157    19.7     13.2     14.3     15.2  2.8728  2.0672      0       0      0   \n",
       "158    19.9     13.8     15.0     16.2  2.9322  1.8792      0       0      0   \n",
       "\n",
       "     Pike  Roach  Smelt  Whitefish  \n",
       "154     0      0      1          0  \n",
       "155     0      0      1          0  \n",
       "156     0      0      1          0  \n",
       "157     0      0      1          0  \n",
       "158     0      0      1          0  "
      ]
     },
     "execution_count": 3,
     "metadata": {},
     "output_type": "execute_result"
    }
   ],
   "source": [
    "ds = rawDS.copy()\n",
    "ds = pd.get_dummies(ds, prefix='', prefix_sep='')\n",
    "ds.tail()"
   ]
  },
  {
   "cell_type": "markdown",
   "metadata": {},
   "source": [
    "### Dataset Visualisation\n",
    "The SeaBorn module is able to produce pair plots to make it easy to visualise any correlations between the features.\n",
    "\n",
    "Here we just look at the relations between the weight, height and width and it's pretty apparent there are relations between the variables, but also shows we couldn't just use the height and width to predict the weight as seen in the plots that have 2 or 3 branches."
   ]
  },
  {
   "cell_type": "code",
   "execution_count": 4,
   "metadata": {},
   "outputs": [
    {
     "data": {
      "text/plain": [
       "<seaborn.axisgrid.PairGrid at 0x1a929f01248>"
      ]
     },
     "execution_count": 4,
     "metadata": {},
     "output_type": "execute_result"
    },
    {
     "data": {
      "image/png": "[encoded data removed]",
      "text/plain": [
       "<Figure size 540x540 with 12 Axes>"
      ]
     },
     "metadata": {
      "needs_background": "light"
     },
     "output_type": "display_data"
    }
   ],
   "source": [
    "sb.pairplot(ds[['Weight', 'Height', 'Width']], diag_kind='kde')"
   ]
  },
  {
   "cell_type": "markdown",
   "metadata": {},
   "source": [
    "### Creating the Training and Testing Dataset\n",
    "\n",
    "Now we're happy with the structure of the data, we need to divide it into 2 sets for the testing and training data, and then divide those into features and labels.\n",
    "\n",
    "The training data is what the program uses to train the machine learning model, and the test data is to test the performance of that model on unseen data. \n",
    "\n",
    "We create the training dataset using the .sample() function with the 'frac' parameter 0.8 to specify we want 80% of the original datset.\n",
    "\n",
    "We can then create the testing datset by taking the original dataset and dropping (i.e. removing) any rows that is in the training datset by removing rows with indexes that are also in the training set.\n",
    "\n",
    "Finally we separate the datasets we just created into features and labels by copying them into Features dataset, and then popping the Weight column of Features into a new Labels set."
   ]
  },
  {
   "cell_type": "code",
   "execution_count": 5,
   "metadata": {},
   "outputs": [],
   "source": [
    "trainDS = ds.sample(frac=0.8)\n",
    "testDS = ds.drop(trainDS.index)\n",
    "\n",
    "trainFeatures = trainDS.copy()\n",
    "testFeatures = testDS.copy()\n",
    "\n",
    "trainLabels = trainFeatures.pop('Weight')\n",
    "testLabels = testFeatures.pop('Weight')"
   ]
  },
  {
   "cell_type": "markdown",
   "metadata": {},
   "source": [
    "### Building Our Linear Regression Model\n",
    "\n",
    "To build a model in TensorFlow you design them as a 'Graph' using Keras, the high-level API for TensorFlow. We start of by instantiating a sequential model which is the basic model type.\n",
    "\n",
    "We need to normalise the data as each column contains a different range of values, meaning that features containing larger values can over-power the others and be seen as more important. Obviously we want all the features to be as equal as eachother so the model can decide what is important.\n",
    "\n",
    "To do this, we instantiate a normalization layer, and tell it to 'adapt' to the data by passing the input training data to it. Now configured, we can add the layer to the model.\n",
    "\n",
    "To combine the inputs to form one output, we use a 'dense' layer, the simplest layer type, with 1 node which will be the output. To calculate the output, the node will take each input and multiply it by the 'weight' of the connection from the source to this node, and then sum all the calculations. The weight is a parameter the model will change during training to define how important each input is to the final value.\n",
    "\n",
    "##### Simple example of how this works:\n",
    "Assume we have a model with one input, the weight can be represented as the m in y = mx. During training, y is the label you are given and x is the input, so you use that to calculate the value of m. During testing, you multiply the input x by the calculated weight m to get the predicted output."
   ]
  },
  {
   "cell_type": "code",
   "execution_count": 45,
   "metadata": {},
   "outputs": [],
   "source": [
    "model = keras.Sequential()\n",
    "\n",
    "normaliser = tf.keras.layers.experimental.preprocessing.Normalization()\n",
    "normaliser.adapt(np.array(trainFeatures))\n",
    "\n",
    "model.add(normaliser)\n",
    "\n",
    "model.add(keras.layers.Dense(units=1))\n"
   ]
  },
  {
   "cell_type": "markdown",
   "metadata": {},
   "source": [
    "Now we have designed the model, we compile it using the Adam optimiser. 0.1 is a good learning rate to start with, it defines how much the model will change its parameters during training. Too small and it can get stuck in local minima, too large it can jump over the global minima. You can tweak this value and see how accurate you can get this model. \n",
    "The loss parameter defines which function to use to calculate the loss (the error) which is used by the optimiser.\n",
    "\n",
    "##### How do Optimisers work?\n",
    "\n",
    "Imagine you plotted all the possible parameters in the model against the loss/error. You get a line graph and it is the goal of the optimiser to find the lowest point of the graph - i.e. find the set of parameters which give the lowest error. \n",
    "\n",
    "The easiest way to do this is through something called *gradient descent*, it works by picking a point and calculating the gradient, you then travel downwards at a jump relative to the steepness of this point - the steeper the line the further away it is from a minima so you should be able to jump further. The learning rate also contributes to how much it travels. The graph will typically consist of multiple inflection points, but the model can find it hard to find the inflection that is the minimum of the graph (the parameters with the least errors), so it could either skip past the global minimum if the learning rate is too high and have to go backwards, or get stuck in a local minimum if it is too low. T\n",
    "\n",
    "The Adam optimiser we are using here is an implementation of gradient descent that is known for being resource efficient with low memory requirements."
   ]
  },
  {
   "cell_type": "code",
   "execution_count": 46,
   "metadata": {},
   "outputs": [],
   "source": [
    "model.compile(optimizer = tf.optimizers.Adam(learning_rate=0.1), loss='mean_absolute_error')"
   ]
  },
  {
   "cell_type": "markdown",
   "metadata": {},
   "source": [
    "#### Training the model\n",
    "\n",
    "Using the %% prefix, we tell Jupyter to measure and output the time it takes to run this cell - its a good thing to know, especially when making tweaks to the model and want to compare the time taken to train and the performance you get out of it.\n",
    "\n",
    "We define a callback function which will be used during traning to generate a TensorBoard log of this model. As mentioned TensorBoard is a visualisation tool that is part of TensorFlow, during training the callback function is used to generate a log file which can then be opened by the TensorBoard web-app to see the performance change during training and validation, diagram of the model \n",
    "\n",
    "The % prefix is the Jupyter command telling it to embed the TensorBoard webapp into the notebook rather than opening another window"
   ]
  },
  {
   "cell_type": "code",
   "execution_count": 47,
   "metadata": {},
   "outputs": [
    {
     "data": {
      "text/plain": [
       "Reusing TensorBoard on port 6006 (pid 14192), started 2:22:18 ago. (Use '!kill 14192' to kill it.)"
      ]
     },
     "metadata": {},
     "output_type": "display_data"
    },
    {
     "data": {
      "text/html": [
       "\n",
       "      <iframe id=\"tensorboard-frame-7576cbb036a177b8\" width=\"100%\" height=\"800\" frameborder=\"0\">\n",
       "      </iframe>\n",
       "      <script>\n",
       "        (function() {\n",
       "          const frame = document.getElementById(\"tensorboard-frame-7576cbb036a177b8\");\n",
       "          const url = new URL(\"/\", window.location);\n",
       "          url.port = 6006;\n",
       "          frame.src = url;\n",
       "        })();\n",
       "      </script>\n",
       "  "
      ],
      "text/plain": [
       "<IPython.core.display.HTML object>"
      ]
     },
     "metadata": {},
     "output_type": "display_data"
    },
    {
     "name": "stdout",
     "output_type": "stream",
     "text": [
      "Wall time: 19.2 s\n"
     ]
    }
   ],
   "source": [
    "%%time\n",
    "tensorboard_callback = tf.keras.callbacks.TensorBoard(log_dir=\"logs\\\\test\", histogram_freq=1)\n",
    "history = model.fit(np.array(trainFeatures), np.array(trainLabels), verbose=0, epochs=1500, validation_split = 0.2, callbacks=[tensorboard_callback])\n",
    "%tensorboard --logdir logs/test"
   ]
  },
  {
   "cell_type": "markdown",
   "metadata": {},
   "source": [
    "### Evaluating the Trained Model\n",
    "Now the model has been trained, we can evaluate it by testing it using the test dataset. We call the evaluate method on the model passing the test dataset features and labels.\n",
    "\n",
    "The loss value outputted is the average difference between the predicted weight and the actual weight - I was getting ~70 meaning that the average difference between the predicted and actual weight was around "
   ]
  },
  {
   "cell_type": "code",
   "execution_count": 48,
   "metadata": {},
   "outputs": [
    {
     "name": "stdout",
     "output_type": "stream",
     "text": [
      "32/32 [==============================] - 0s 2ms/sample - loss: 66.7478\n"
     ]
    }
   ],
   "source": [
    "modelEval = model.evaluate(testFeatures, testLabels)"
   ]
  },
  {
   "cell_type": "markdown",
   "metadata": {},
   "source": [
    "We can also plot the actual and predicted weight for each row in the test dataset onto a line graph. It's a nice visual way to see the performance of the model, it's pretty clear it was pretty good but some outliers are visible.\n",
    "\n",
    "To create the graph, we first tell the model to calculate the predictions for all of the test dataset and put it into a results variable. We then use MatPlotLib to create a has a scatter plot of the test dataset labels against the results we just predicted, and also tell it to plot a y=x line (which would be where all the values *should* sit if it were 100% accurate)"
   ]
  },
  {
   "cell_type": "code",
   "execution_count": 49,
   "metadata": {},
   "outputs": [
    {
     "data": {
      "text/plain": [
       "[<matplotlib.lines.Line2D at 0x1a92af3e608>]"
      ]
     },
     "execution_count": 49,
     "metadata": {},
     "output_type": "execute_result"
    },
    {
     "data": {
      "image/png": "[encoded data removed]",
      "text/plain": [
       "<Figure size 432x288 with 1 Axes>"
      ]
     },
     "metadata": {
      "needs_background": "light"
     },
     "output_type": "display_data"
    }
   ],
   "source": [
    "results = model.predict(testFeatures)\n",
    "a = plt.axes(aspect='equal')\n",
    "plt.scatter(testLabels, results)\n",
    "plt.xlabel('Actual Weight')\n",
    "plt.ylabel('Predicted Weight')\n",
    "lims = [0, 1750]\n",
    "plt.xlim(lims)\n",
    "plt.ylim(lims)\n",
    "plt.plot(lims, lims)"
   ]
  },
  {
   "cell_type": "markdown",
   "metadata": {},
   "source": [
    "### Building our Deep Neural Network Regression Model\n",
    "\n",
    "Now we build the deep neural network version of a regression model. Again we will use the Sequential model type, as well as using the same normaliser as before, but this time we are adding 2 dense layers, known as hidden layers, between the normaliser and the dense output.\n",
    "\n",
    "Each hidden layer has 64 nodes each. As the number of nodes increases, and so the number connections/weights, the model gets better working with more and more complex relations between the inputs. However, too many nodes, and thus too many connections, can cause the model to *over-fit*, this is where the model 'tunnels' on the training data and cannot generalise on new data. Also increasing the number of connections increases the computation time and memory needed to train and run the model. It is therefore important to find a good number of nodes for each layer which is typically done through trial and error.\n",
    "\n",
    "The hidden layers also use the relu activation function. Activation functions are applied on each node afte they have computed the sum of the weights \\* inputs. It maps that number to a range typically -1 to 1, or 0 to 1. Neurons in a real brain have to choose when to fire and how strongly to fire based on its inputs, and activation functions do the same thing.\n",
    "\n",
    "Again, we will also use the same loss and optimiser functions as before"
   ]
  },
  {
   "cell_type": "code",
   "execution_count": 50,
   "metadata": {},
   "outputs": [],
   "source": [
    "dnnModel = tf.keras.Sequential([normaliser, tf.keras.layers.Dense(64, activation='relu'), tf.keras.layers.Dense(64, activation='relu'), tf.keras.layers.Dense(1)])\n",
    "dnnModel.compile(optimizer = tf.keras.optimizers.Adam(0.01), loss='mean_absolute_error')\n"
   ]
  },
  {
   "cell_type": "markdown",
   "metadata": {},
   "source": [
    "And now we can train the DNN model, again we define the TensorBoard callback function which shows us the training performance graph, as well as other visualisations."
   ]
  },
  {
   "cell_type": "code",
   "execution_count": 51,
   "metadata": {},
   "outputs": [
    {
     "data": {
      "text/plain": [
       "Reusing TensorBoard on port 6006 (pid 16036), started 1:01:38 ago. (Use '!kill 16036' to kill it.)"
      ]
     },
     "metadata": {},
     "output_type": "display_data"
    },
    {
     "data": {
      "text/html": [
       "\n",
       "      <iframe id=\"tensorboard-frame-35365e5c52ea0c96\" width=\"100%\" height=\"800\" frameborder=\"0\">\n",
       "      </iframe>\n",
       "      <script>\n",
       "        (function() {\n",
       "          const frame = document.getElementById(\"tensorboard-frame-35365e5c52ea0c96\");\n",
       "          const url = new URL(\"/\", window.location);\n",
       "          url.port = 6006;\n",
       "          frame.src = url;\n",
       "        })();\n",
       "      </script>\n",
       "  "
      ],
      "text/plain": [
       "<IPython.core.display.HTML object>"
      ]
     },
     "metadata": {},
     "output_type": "display_data"
    },
    {
     "name": "stdout",
     "output_type": "stream",
     "text": [
      "Wall time: 23.4 s\n"
     ]
    }
   ],
   "source": [
    "%%time\n",
    "tensorboard_callback = tf.keras.callbacks.TensorBoard(log_dir=\"logs\\\\dnn\", histogram_freq=1)\n",
    "dnnHistory = dnnModel.fit(np.array(trainFeatures), np.array(trainLabels), validation_split = 0.2, verbose=0, epochs=1500, callbacks=[tensorboard_callback])\n",
    "%tensorboard --logdir logs/dnn\n"
   ]
  },
  {
   "cell_type": "markdown",
   "metadata": {},
   "source": [
    "#### Evaluating the DNN Regression Model\n",
    "\n",
    "Using the same evaluate method on the DNN model gives me a loss of around 41, with is approximately 70% better than the linear regression model!"
   ]
  },
  {
   "cell_type": "code",
   "execution_count": 52,
   "metadata": {},
   "outputs": [
    {
     "name": "stdout",
     "output_type": "stream",
     "text": [
      "32/32 [==============================] - 0s 2ms/sample - loss: 42.3887\n"
     ]
    }
   ],
   "source": [
    "modelEval = dnnModel.evaluate(testFeatures, testLabels)"
   ]
  },
  {
   "cell_type": "markdown",
   "metadata": {},
   "source": [
    "We can also show another graph, but this time has the DNN regression model as well as the linear regression model. It clearly shows the DNN model being more accurate."
   ]
  },
  {
   "cell_type": "code",
   "execution_count": 53,
   "metadata": {},
   "outputs": [
    {
     "data": {
      "image/png": "[encoded data removed]",
      "text/plain": [
       "<Figure size 432x288 with 1 Axes>"
      ]
     },
     "metadata": {
      "needs_background": "light"
     },
     "output_type": "display_data"
    }
   ],
   "source": [
    "dnnResults = dnnModel.predict(testFeatures).flatten()\n",
    "a = plt.axes(aspect='equal')\n",
    "a.scatter(testLabels, dnnResults, label='DNN Regression')\n",
    "a.scatter(testLabels, results, label='Linear Regression')\n",
    "a.legend()\n",
    "plt.xlabel('True Weight')\n",
    "plt.ylabel('Predicted Weight')\n",
    "lims = [0, 1750]\n",
    "plt.xlim(lims)\n",
    "plt.ylim(lims)\n",
    "_ = plt.plot(lims, lims)"
   ]
  },
  {
   "cell_type": "markdown",
   "metadata": {},
   "source": [
    "### Using our Models\n",
    "\n",
    "Now that we have created & trained our models - they are ready for use. There are ways to save/package and distribute trained models so they do not need to be trained every time which will be demonstrated in another article.\n",
    "\n",
    "Here we will just use a collection of input statements to get the measurements from the user, run that through both models and get the predicted weight value - not a very elegant solution but it can easily replaced with a UI, or by a web request etc."
   ]
  },
  {
   "cell_type": "code",
   "execution_count": null,
   "metadata": {},
   "outputs": [],
   "source": [
    "inpLength1 = float(input(\"Length 1 (Vertical Length) : \"))\n",
    "inpLength2 = float(input(\"Diagonal 2 (Vertical Length) : \"))\n",
    "inpLength3 = float(input(\"Cross 3 (Vertical Length) : \"))\n",
    "inpHeight = float(input(\"Height (Vertical Length) : \"))\n",
    "inpWidth = float(input(\"Width (Vertical Length) : \"))\n",
    "inpSpecies = input(\"Species (Parkki, Perch, Pike, Roach, Smelt or Whitefish) : \")\n",
    "\n",
    "if inpSpecies.lower() == \"bream\":\n",
    "    inpSpecies = [1,0,0,0,0,0,0]\n",
    "elif inpSpecies.lower() == \"parkki\":\n",
    "    inpSpecies = [0,1,0,0,0,0,0]\n",
    "elif inpSpecies.lower() == \"perch\":\n",
    "    inpSpecies = [0,0,1,0,0,0,0]\n",
    "elif inpSpecies.lower() == \"pike\":\n",
    "    inpSpecies = [0,0,0,1,0,0,0]\n",
    "elif inpSpecies.lower() == \"roach\":\n",
    "    inpSpecies = [0,0,0,0,1,0,0]\n",
    "elif inpSpecies.lower() == \"smelt\":\n",
    "    inpSpecies = [0,0,0,0,0,1,0]\n",
    "elif inpSpecies.lower() == \"whitefish\":\n",
    "    inpSpecies = [0,0,0,0,0,0,1]\n",
    "else:\n",
    "    print(\"Incorrect Species\")\n",
    "\n",
    "inp = [inpLength1] + [inpLength2] + [inpLength3] + [inpHeight] + [inpWidth] + inpSpecies \n",
    "                   \n"
   ]
  },
  {
   "cell_type": "code",
   "execution_count": 43,
   "metadata": {},
   "outputs": [
    {
     "name": "stdout",
     "output_type": "stream",
     "text": [
      "Linear Regression Model Predicts : 293.99982\n",
      "DNN Regression Model Predicts : 232.34503\n"
     ]
    }
   ],
   "source": [
    "print(\"Linear Regression Model Predicts : \" + str(model.predict([inp])[0][0]))\n",
    "print(\"DNN Regression Model Predicts : \" + str(dnnModel.predict([inp])[0][0]))"
   ]
  }
 ],
 "metadata": {
  "kernelspec": {
   "display_name": "Python 3",
   "language": "python",
   "name": "python3"
  },
  "language_info": {
   "codemirror_mode": {
    "name": "ipython",
    "version": 3
   },
   "file_extension": ".py",
   "mimetype": "text/x-python",
   "name": "python",
   "nbconvert_exporter": "python",
   "pygments_lexer": "ipython3",
   "version": "3.7.9"
  }
 },
 "nbformat": 4,
 "nbformat_minor": 4
}
